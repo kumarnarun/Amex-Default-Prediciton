{
 "cells": [
  {
   "cell_type": "code",
   "execution_count": 1,
   "id": "a6c9ad0b",
   "metadata": {},
   "outputs": [],
   "source": [
    "import pandas as pd\n",
    "import gc"
   ]
  },
  {
   "cell_type": "code",
   "execution_count": 2,
   "id": "c9557309",
   "metadata": {},
   "outputs": [],
   "source": [
    "chunk_size=500000\n",
    "num=1\n",
    "for chunk in pd.read_csv('test_data.csv',chunksize=chunk_size):\n",
    "    chunk.to_csv('chunk'+str(num)+'.csv',index=False)\n",
    "    gc.collect()\n",
    "    num+=1"
   ]
  }
 ],
 "metadata": {
  "kernelspec": {
   "display_name": "Python 3 (ipykernel)",
   "language": "python",
   "name": "python3"
  },
  "language_info": {
   "codemirror_mode": {
    "name": "ipython",
    "version": 3
   },
   "file_extension": ".py",
   "mimetype": "text/x-python",
   "name": "python",
   "nbconvert_exporter": "python",
   "pygments_lexer": "ipython3",
   "version": "3.9.12"
  }
 },
 "nbformat": 4,
 "nbformat_minor": 5
}
